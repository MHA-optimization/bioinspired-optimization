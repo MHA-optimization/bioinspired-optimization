{
 "cells": [
  {
   "cell_type": "markdown",
   "metadata": {},
   "source": [
    "# Genetic Algorithm"
   ]
  },
  {
   "cell_type": "code",
   "execution_count": 1,
   "metadata": {},
   "outputs": [],
   "source": [
    "import numpy as np\n",
    "import matplotlib.pyplot as plt\n",
    "\n",
    "from ga import GA\n",
    "from functions import sphere, rastringin, ackley"
   ]
  },
  {
   "cell_type": "markdown",
   "metadata": {},
   "source": [
    "## Analisar o impacto dos parâmetros do GA na solução das funções de teste.\n",
    "* Variar o tamanho da população no intervalo [30 - 100] em passos de 10. \n",
    "* Mostrar resultado em um gráfico com tamanho da população vs. melhor fitness encontrado;\n",
    "* Cada “ponto” do gráfico deve ser um box-plot dos 30 valores das execuções (exemplo)."
   ]
  },
  {
   "cell_type": "markdown",
   "metadata": {},
   "source": [
    "### Sphere"
   ]
  },
  {
   "cell_type": "code",
   "execution_count": 2,
   "metadata": {},
   "outputs": [],
   "source": [
    "bounds = [(-5, 5), (-5, 5), (-5, 5)]\n",
    "\n",
    "sphere_results = []\n",
    "sphere_particle_number = []\n",
    "\n",
    "# varying the number of particles\n",
    "for n in range(30, 101, 10):\n",
    "    ga = GA(sphere, bounds, pop_size=n)\n",
    "    results = []\n",
    "    # executing algorithm 30 times\n",
    "    for i in range(30):\n",
    "        execution = ga.run()\n",
    "        results.append(execution)\n",
    "        \n",
    "    sphere_particle_number.append(n)\n",
    "    sphere_results.append(results)"
   ]
  },
  {
   "cell_type": "markdown",
   "metadata": {},
   "source": [
    "### Rastringin"
   ]
  },
  {
   "cell_type": "code",
   "execution_count": 3,
   "metadata": {},
   "outputs": [],
   "source": [
    "bounds = [(-5.12, 5.12), (-5.12, 5.12), (-5.12, 5.12)]\n",
    "\n",
    "rastringin_results = []\n",
    "rastringin_particle_number = []\n",
    "\n",
    "# varying the number of particles\n",
    "for n in range(30, 101, 10):\n",
    "    ga = GA(rastringin, bounds, pop_size=n)\n",
    "    results = []\n",
    "    # executing algorithm 30 times\n",
    "    for i in range(30):\n",
    "        execution = ga.run()\n",
    "        results.append(execution)\n",
    "    \n",
    "    rastringin_particle_number.append(n)\n",
    "    rastringin_results.append(results)"
   ]
  },
  {
   "cell_type": "markdown",
   "metadata": {},
   "source": [
    "### Ackley"
   ]
  },
  {
   "cell_type": "code",
   "execution_count": 4,
   "metadata": {},
   "outputs": [],
   "source": [
    "bounds = [(-5, 5), (-5, 5), (-5, 5)]\n",
    "\n",
    "ackley_results = []\n",
    "ackley_particle_number = []\n",
    "\n",
    "# varying the number of particles\n",
    "for n in range(30, 101, 10):\n",
    "    ga = GA(ackley, bounds, pop_size=n)\n",
    "    results = []\n",
    "    # executing algorithm 30 times\n",
    "    for i in range(30):\n",
    "        execution = ga.run()\n",
    "        results.append(execution)\n",
    "    \n",
    "    ackley_particle_number.append(n)\n",
    "    ackley_results.append(results)"
   ]
  },
  {
   "cell_type": "code",
   "execution_count": 5,
   "metadata": {},
   "outputs": [
    {
     "data": {
      "image/png": "[encoded data removed]",
      "text/plain": [
       "<Figure size 1440x360 with 3 Axes>"
      ]
     },
     "metadata": {
      "needs_background": "light"
     },
     "output_type": "display_data"
    }
   ],
   "source": [
    "plt.figure(figsize=(20, 5))\n",
    "\n",
    "plt.subplot(1, 3, 1)\n",
    "plt.boxplot(sphere_results)\n",
    "plt.xticks(range(1, len(sphere_results) + 1), sphere_particle_number)\n",
    "plt.title('Sphere')\n",
    "plt.ylabel(\"Fitness\")\n",
    "plt.xlabel(\"Number of Particles\")\n",
    "\n",
    "plt.subplot(1, 3, 2)\n",
    "plt.boxplot(rastringin_results)\n",
    "plt.xticks(range(1, len(rastringin_results) + 1), rastringin_particle_number)\n",
    "plt.title('Rastringin')\n",
    "plt.ylabel(\"Fitness\")\n",
    "plt.xlabel(\"Number of Particles\")\n",
    "\n",
    "plt.subplot(1, 3, 3)\n",
    "plt.boxplot(ackley_results)\n",
    "plt.xticks(range(1, len(ackley_results) + 1), ackley_particle_number)\n",
    "plt.title('Ackley')\n",
    "plt.ylabel(\"Fitness\")\n",
    "plt.xlabel(\"Number of Particles\")\n",
    "\n",
    "plt.show()"
   ]
  },
  {
   "cell_type": "markdown",
   "metadata": {},
   "source": [
    "# Variar taxa de cruzamento no intervalo [50% - 100%] em passos de 10.\n",
    "* Mostrar resultado em um gráfico com taxa de cruzamento vs. melhor fitness encontrado;\n",
    "* Cada “ponto” do gráfico deve ser um box-plot dos 30 valores das execuções.\n"
   ]
  },
  {
   "cell_type": "markdown",
   "metadata": {},
   "source": [
    "### Sphere"
   ]
  },
  {
   "cell_type": "code",
   "execution_count": 10,
   "metadata": {},
   "outputs": [],
   "source": [
    "bounds = [(-5, 5), (-5, 5), (-5, 5)]\n",
    "\n",
    "sphere_results = []\n",
    "sphere_cross_probability = []\n",
    "\n",
    "# varying the number of particles\n",
    "for n in np.arange(0.5, 1.01, 0.1):\n",
    "    ga = GA(sphere, bounds, cx_prob=n)\n",
    "    results = []\n",
    "    # executing algorithm 30 times\n",
    "    for i in range(30):\n",
    "        execution = ga.run()\n",
    "        results.append(execution)\n",
    "        \n",
    "    sphere_cross_probability.append(n)\n",
    "    sphere_results.append(results)"
   ]
  },
  {
   "cell_type": "markdown",
   "metadata": {},
   "source": [
    "### Rastringin"
   ]
  },
  {
   "cell_type": "code",
   "execution_count": 11,
   "metadata": {},
   "outputs": [],
   "source": [
    "bounds = [(-5.12, 5.12), (-5.12, 5.12), (-5.12, 5.12)]\n",
    "\n",
    "rastringin_results = []\n",
    "rastringin_cross_probability = []\n",
    "\n",
    "# varying the number of particles\n",
    "for n in np.arange(0.5, 1.01, 0.1):\n",
    "    ga = GA(rastringin, bounds, cx_prob=n)\n",
    "    results = []\n",
    "    # executing algorithm 30 times\n",
    "    for i in range(30):\n",
    "        execution = ga.run()\n",
    "        results.append(execution)\n",
    "    \n",
    "    rastringin_cross_probability.append(n)\n",
    "    rastringin_results.append(results)"
   ]
  },
  {
   "cell_type": "markdown",
   "metadata": {},
   "source": [
    "### Ackley"
   ]
  },
  {
   "cell_type": "code",
   "execution_count": 12,
   "metadata": {},
   "outputs": [],
   "source": [
    "bounds = [(-5, 5), (-5, 5), (-5, 5)]\n",
    "\n",
    "ackley_results = []\n",
    "ackley_cross_probability = []\n",
    "\n",
    "# varying the number of particles\n",
    "for n in np.arange(0.5, 1.01, 0.1):\n",
    "    ga = GA(ackley, bounds, cx_prob=n)\n",
    "    results = []\n",
    "    # executing algorithm 30 times\n",
    "    for i in range(30):\n",
    "        execution = ga.run()\n",
    "        results.append(execution)\n",
    "    \n",
    "    ackley_cross_probability.append(n)\n",
    "    ackley_results.append(results)"
   ]
  },
  {
   "cell_type": "code",
   "execution_count": 13,
   "metadata": {},
   "outputs": [
    {
     "data": {
      "image/png": "[encoded data removed]",
      "text/plain": [
       "<Figure size 1440x360 with 3 Axes>"
      ]
     },
     "metadata": {
      "needs_background": "light"
     },
     "output_type": "display_data"
    }
   ],
   "source": [
    "plt.figure(figsize=(20, 5))\n",
    "\n",
    "plt.subplot(1, 3, 1)\n",
    "plt.boxplot(sphere_results)\n",
    "plt.xticks(range(1, len(sphere_results) + 1), np.around(sphere_cross_probability,1))\n",
    "plt.title('Sphere')\n",
    "plt.ylabel(\"Fitness\")\n",
    "plt.xlabel(\"Number of Particles\")\n",
    "\n",
    "plt.subplot(1, 3, 2)\n",
    "plt.boxplot(rastringin_results)\n",
    "plt.xticks(range(1, len(rastringin_results) + 1), np.around(rastringin_cross_probability,1))\n",
    "plt.title('Rastringin')\n",
    "plt.ylabel(\"Fitness\")\n",
    "plt.xlabel(\"Number of Particles\")\n",
    "\n",
    "plt.subplot(1, 3, 3)\n",
    "plt.boxplot(ackley_results)\n",
    "plt.xticks(range(1, len(ackley_results) + 1), np.around(ackley_cross_probability,1))\n",
    "plt.title('Ackley')\n",
    "plt.ylabel(\"Fitness\")\n",
    "plt.xlabel(\"Number of Particles\")\n",
    "\n",
    "plt.show()"
   ]
  },
  {
   "cell_type": "markdown",
   "metadata": {},
   "source": [
    "# Variar tipo de cruzamento entre as opções: cruzamento 1 ponto, cruzamento 2 pontos.\n",
    "* Mostrar resultado em um gráfico com número de iteração vs. melhor fitness encontrado\n",
    "* Terão duas séries neste gráfico, uma para cada tipo de cruzamento\n",
    "* Cada ponto da série deverá apresentar a média dos 30 execuções e uma barra de erro (exemplo).\n"
   ]
  },
  {
   "cell_type": "markdown",
   "metadata": {},
   "source": [
    "# Variar tipo de seleção de sobrevivência entre: elitismo, roleta e aleatória\n",
    "* Mostrar resultado em um gráfico com número de iteração vs. melhor fitness encontrado\n",
    "* Terão três séries neste gráfico, uma para cada tipo de seleção\n",
    "* Cada ponto da série deverá apresentar a média dos 30 execuções e uma barra de erro.\n"
   ]
  }
 ],
 "metadata": {
  "kernelspec": {
   "display_name": "Python 3",
   "language": "python",
   "name": "python3"
  },
  "language_info": {
   "codemirror_mode": {
    "name": "ipython",
    "version": 3
   },
   "file_extension": ".py",
   "mimetype": "text/x-python",
   "name": "python",
   "nbconvert_exporter": "python",
   "pygments_lexer": "ipython3",
   "version": "3.5.2"
  }
 },
 "nbformat": 4,
 "nbformat_minor": 2
}
