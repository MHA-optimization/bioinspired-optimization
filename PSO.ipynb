{
 "cells": [
  {
   "cell_type": "markdown",
   "metadata": {},
   "source": [
    "# Particle Swarm Optimization\n",
    "\n",
    "In this report, we analyse the performance of the Particle Swarm Optimization (PSO) algorithm for optimizing the Sphere, Rastringin and Ackley functions."
   ]
  },
  {
   "cell_type": "code",
   "execution_count": 1,
   "metadata": {},
   "outputs": [],
   "source": [
    "import numpy as np\n",
    "import matplotlib.pyplot as plt\n",
    "\n",
    "from pso import PSO\n",
    "from functions import sphere, rastringin, ackley"
   ]
  },
  {
   "cell_type": "markdown",
   "metadata": {},
   "source": [
    "## Swarm size\n",
    "\n",
    "In this section, we analyse the impact of the swarm size for optimizing each function. The number of particles is set from 30 to 100, in steps of 10. Mean and Standard Deviation are obtained by repeating each experiment 30 times."
   ]
  },
  {
   "cell_type": "markdown",
   "metadata": {},
   "source": [
    "### Sphere"
   ]
  },
  {
   "cell_type": "code",
   "execution_count": 2,
   "metadata": {},
   "outputs": [],
   "source": [
    "bounds = [(-5, 5), (-5, 5), (-5, 5)]\n",
    "\n",
    "sphere_results = []\n",
    "sphere_particle_number = []\n",
    "\n",
    "# varying the number of particles\n",
    "for n in range(30, 101, 10):\n",
    "    pso = PSO(sphere, bounds, num_particles=n)\n",
    "    results = []\n",
    "    # executing algorithm 30 times\n",
    "    for i in range(30):\n",
    "        execution, _ = pso.run()\n",
    "        results.append(execution)\n",
    "        \n",
    "    sphere_particle_number.append(n)\n",
    "    sphere_results.append(results)\n",
    "\n",
    "#for n, r in zip(sphere_particle_number, sphere_results):\n",
    "#    print(n, \":\", np.average(r))"
   ]
  },
  {
   "cell_type": "markdown",
   "metadata": {},
   "source": [
    "### Rastringin"
   ]
  },
  {
   "cell_type": "code",
   "execution_count": 3,
   "metadata": {},
   "outputs": [],
   "source": [
    "bounds = [(-5.12, 5.12), (-5.12, 5.12), (-5.12, 5.12)]\n",
    "\n",
    "rastringin_results = []\n",
    "rastringin_particle_number = []\n",
    "\n",
    "# varying the number of particles\n",
    "for n in range(30, 101, 10):\n",
    "    pso = PSO(rastringin, bounds, num_particles=n)\n",
    "    results = []\n",
    "    # executing algorithm 30 times\n",
    "    for i in range(30):\n",
    "        execution, _ = pso.run()\n",
    "        results.append(execution)\n",
    "    \n",
    "    rastringin_particle_number.append(n)\n",
    "    rastringin_results.append(results)\n",
    "\n",
    "#for n, r in zip(rastringin_particle_number, rastringin_results):\n",
    "#    print(n, \":\", np.average(r))"
   ]
  },
  {
   "cell_type": "markdown",
   "metadata": {},
   "source": [
    "### Ackley"
   ]
  },
  {
   "cell_type": "code",
   "execution_count": 4,
   "metadata": {},
   "outputs": [],
   "source": [
    "bounds = [(-5, 5), (-5, 5), (-5, 5)]\n",
    "\n",
    "ackley_results = []\n",
    "ackley_particle_number = []\n",
    "\n",
    "# varying the number of particles\n",
    "for n in range(30, 101, 10):\n",
    "    pso = PSO(ackley, bounds, num_particles=n)\n",
    "    results = []\n",
    "    # executing algorithm 30 times\n",
    "    for i in range(30):\n",
    "        execution, _ = pso.run()\n",
    "        results.append(execution)\n",
    "    \n",
    "    ackley_particle_number.append(n)\n",
    "    ackley_results.append(results)\n",
    "    \n",
    "#for n, r in zip(ackley_particle_number, ackley_results):\n",
    "#    print(n, \":\", np.average(r))"
   ]
  },
  {
   "cell_type": "markdown",
   "metadata": {},
   "source": [
    "### Results"
   ]
  },
  {
   "cell_type": "code",
   "execution_count": 5,
   "metadata": {},
   "outputs": [
    {
     "data": {
      "image/png": "[encoded data removed]",
      "text/plain": [
       "<Figure size 1440x360 with 3 Axes>"
      ]
     },
     "metadata": {
      "needs_background": "light"
     },
     "output_type": "display_data"
    }
   ],
   "source": [
    "plt.figure(figsize=(20, 5))\n",
    "\n",
    "plt.subplot(1, 3, 1)\n",
    "plt.boxplot(sphere_results)\n",
    "plt.xticks(range(1, len(sphere_results) + 1), sphere_particle_number)\n",
    "plt.title('Sphere')\n",
    "plt.ylabel(\"Fitness\")\n",
    "plt.xlabel(\"Number of Particles\")\n",
    "\n",
    "plt.subplot(1, 3, 2)\n",
    "plt.boxplot(rastringin_results)\n",
    "plt.xticks(range(1, len(rastringin_results) + 1), rastringin_particle_number)\n",
    "plt.title('Rastringin')\n",
    "plt.ylabel(\"Fitness\")\n",
    "plt.xlabel(\"Number of Particles\")\n",
    "\n",
    "plt.subplot(1, 3, 3)\n",
    "plt.boxplot(ackley_results)\n",
    "plt.xticks(range(1, len(ackley_results) + 1), ackley_particle_number)\n",
    "plt.title('Ackley')\n",
    "plt.ylabel(\"Fitness\")\n",
    "plt.xlabel(\"Number of Particles\")\n",
    "\n",
    "plt.show()"
   ]
  },
  {
   "cell_type": "markdown",
   "metadata": {},
   "source": [
    "### Discussion\n",
    "\n",
    "With the **sphere** function, we notice that the fitness is inversely proportional to the number of particles, as well as to the number of outliers. Moreover, all the results have a magnitude lesser than 1e-17. From 70 or 80 particles onward, the difference in the results is negligible. \n",
    "\n",
    "For the **rastringin** function, PSO haven't attained results as good as with the sphere. From 50 particles onward, the results are roughly the same, as the averages are equivalent.\n",
    "\n",
    "With **ackley**, the decreasing tendency is once again clear. Besides the average decrease, the variance between the experiments also is reduces, indicating better results overall.\n",
    "\n",
    "The experiments suggest that a larger particle number can lead to better fitness values. A hypothesis is that with more particles, more of the objective function is covered, leading to a greater chance of finding a global optimum. However, as the **rastringin** results suggests, a function with numerous local optima can not be benefited from a bigger number of particles."
   ]
  },
  {
   "cell_type": "markdown",
   "metadata": {},
   "source": [
    "## Inertia value\n",
    "\n",
    "In this section, we analyse the impact of the inertia value for optimizing each function. The inertia weight is set from 0.1 to 0.9, in steps of 10. Mean and Standard Deviation are obtained by repeating each experiment 30 times."
   ]
  },
  {
   "cell_type": "markdown",
   "metadata": {},
   "source": [
    "### Sphere"
   ]
  },
  {
   "cell_type": "code",
   "execution_count": 6,
   "metadata": {},
   "outputs": [],
   "source": [
    "bounds = [(-5, 5), (-5, 5), (-5, 5)]\n",
    "\n",
    "sphere_results = []\n",
    "sphere_inertia_value = []\n",
    "\n",
    "# variando o número de partículas\n",
    "for n in np.arange(0.1, 0.91, 0.1):\n",
    "    pso = PSO(sphere, bounds, inertia=n)\n",
    "    results = []\n",
    "    # executando o algoritmo 30 vezes\n",
    "    for i in range(30):\n",
    "        execution, _ = pso.run()\n",
    "        results.append(execution)\n",
    "        \n",
    "    sphere_inertia_value.append(n)\n",
    "    sphere_results.append(results)"
   ]
  },
  {
   "cell_type": "markdown",
   "metadata": {},
   "source": [
    "### Rastringin"
   ]
  },
  {
   "cell_type": "code",
   "execution_count": 7,
   "metadata": {},
   "outputs": [],
   "source": [
    "bounds = [(-5.12, 5.12), (-5.12, 5.12), (-5.12, 5.12)]\n",
    "\n",
    "rastringin_results = []\n",
    "rastringin_inertia_value = []\n",
    "\n",
    "# variando o número de partículas\n",
    "for n in np.arange(0.1, 0.91, 0.1):\n",
    "    pso = PSO(rastringin, bounds,inertia=n)\n",
    "    results = []\n",
    "    # executando o algoritmo 30 vezes\n",
    "    for i in range(30):\n",
    "        execution, _ = pso.run()\n",
    "        results.append(execution)\n",
    "    \n",
    "    rastringin_inertia_value.append(n)\n",
    "    rastringin_results.append(results)"
   ]
  },
  {
   "cell_type": "markdown",
   "metadata": {},
   "source": [
    "### Ackley"
   ]
  },
  {
   "cell_type": "code",
   "execution_count": 8,
   "metadata": {},
   "outputs": [],
   "source": [
    "bounds = [(-5, 5), (-5, 5), (-5, 5)]\n",
    "\n",
    "ackley_results = []\n",
    "ackley_inertia_value = []\n",
    "\n",
    "# variando o número de partículas\n",
    "for n in np.arange(0.1, 0.91, 0.1):\n",
    "    pso = PSO(ackley, bounds,inertia=n)    \n",
    "    results = []\n",
    "    # executando o algoritmo 30 vezes\n",
    "    for i in range(30):\n",
    "        execution, _ = pso.run()\n",
    "        results.append(execution)\n",
    "    \n",
    "    ackley_inertia_value.append(n)\n",
    "    ackley_results.append(results)"
   ]
  },
  {
   "cell_type": "markdown",
   "metadata": {},
   "source": [
    "### Results"
   ]
  },
  {
   "cell_type": "code",
   "execution_count": 9,
   "metadata": {},
   "outputs": [
    {
     "data": {
      "image/png": "[encoded data removed]",
      "text/plain": [
       "<Figure size 1440x360 with 3 Axes>"
      ]
     },
     "metadata": {
      "needs_background": "light"
     },
     "output_type": "display_data"
    }
   ],
   "source": [
    "plt.figure(figsize=(20, 5))\n",
    "\n",
    "plt.subplot(1, 3, 1)\n",
    "plt.boxplot(sphere_results)\n",
    "plt.xticks(range(1, len(sphere_results) + 1), np.around(sphere_inertia_value,1))\n",
    "plt.title('Sphere')\n",
    "plt.ylabel(\"Fitness\")\n",
    "plt.xlabel(\"Inertia Value\")\n",
    "\n",
    "plt.subplot(1, 3, 2)\n",
    "plt.boxplot(rastringin_results)\n",
    "plt.xticks(range(1, len(rastringin_results) + 1), np.around(rastringin_inertia_value,1))\n",
    "plt.title('Rastringin')\n",
    "plt.ylabel(\"Fitness\")\n",
    "plt.xlabel(\"Inertia Value\")\n",
    "\n",
    "plt.subplot(1, 3, 3)\n",
    "plt.boxplot(ackley_results)\n",
    "plt.xticks(range(1, len(ackley_results) + 1), np.around(ackley_inertia_value,1))\n",
    "plt.title('Ackley')\n",
    "plt.ylabel(\"Fitness\")\n",
    "plt.xlabel(\"Inertia Value\")\n",
    "\n",
    "plt.show()"
   ]
  },
  {
   "cell_type": "markdown",
   "metadata": {},
   "source": [
    "### Discussion\n",
    "\n",
    "For the **sphere** and **ackley** functions, the algorithm obtained its best results with inertia weights between 0.1 and 0.8. With 0.9, the fitness deteriorated. With **sphere** this transition is abrupt, as with **ackley** there is a slow development.\n",
    "\n",
    "With **rastringin**, there is a decreasing tendency in fitness average as inertia vary from 0.1 to 0.8, but once again an inertia weight of 0.9 lead to worse results. \n",
    "\n",
    "The experiments show that some functions like **sphere** and **ackley** do not get any benefit from inertia values larger than 0.1, yet, show worse results for a value of 0.9. On the other hand, **rastringin** sees some benefits of increasing the inertia from 0.1 to 0.8, but once again is impaired by a value of 0.9. A hypothesis is that in functions with multiple pronounced local optima such as **rastringin**, inertia can help the particles not to get stuck on those optima, while in **ackley** (where the local optima are less pronounced) or **sphere** this does not help much."
   ]
  },
  {
   "cell_type": "markdown",
   "metadata": {},
   "source": [
    "## Global vs local topology\n",
    "\n",
    "In this section, we analyse the impact of a global vs a local topology of 2 neighbours for each function. We compare the fitness progression through the algorithm iterations for each strategy. Mean and Standard Deviation are obtained by repeating each experiment 30 times."
   ]
  },
  {
   "cell_type": "code",
   "execution_count": null,
   "metadata": {},
   "outputs": [],
   "source": [
    "num_iter = 100\n",
    "num_exec = 30\n",
    "x = np.arange(1, num_iter + 1, 1) # iteration number array"
   ]
  },
  {
   "cell_type": "markdown",
   "metadata": {},
   "source": [
    "### Sphere"
   ]
  },
  {
   "cell_type": "code",
   "execution_count": null,
   "metadata": {},
   "outputs": [],
   "source": [
    "bounds = [(-5, 5), (-5, 5), (-5, 5)]\n",
    "\n",
    "sphere_best_fitnesses_g = []\n",
    "sphere_best_fitnesses_l = []\n",
    "sphere_iter_results_g = [[] for i in range(num_iter)]\n",
    "sphere_iter_results_l = [[] for i in range(num_iter)]\n",
    "sphere_iter_mean_g = []\n",
    "sphere_iter_mean_l = []\n",
    "sphere_iter_std_g = []\n",
    "sphere_iter_std_l = []\n",
    "\n",
    "# executing global topology algorithm 30 times\n",
    "pso_g = PSO(sphere, bounds, num_particles=50, maxiter=num_iter)\n",
    "\n",
    "for i in range(num_exec):\n",
    "    _, execution_best_fitnesses_g = pso_g.run()\n",
    "    sphere_best_fitnesses_g.append(execution_best_fitnesses_g)\n",
    "    \n",
    "# executing local topology algorithm 30 times\n",
    "pso_l = PSO(sphere, bounds, num_particles=50, maxiter=num_iter, num_neighbors=2)\n",
    "\n",
    "for i in range(num_exec):\n",
    "    _, execution_best_fitnesses_l = pso_l.run()\n",
    "    sphere_best_fitnesses_l.append(execution_best_fitnesses_l)\n",
    "\n",
    "# grouping results by iteration number\n",
    "for i in range(len(sphere_best_fitnesses_g)):\n",
    "    for j in range(len(sphere_best_fitnesses_g[i])):\n",
    "        sphere_iter_results_g[j].append(sphere_best_fitnesses_g[i][j])\n",
    "        sphere_iter_results_l[j].append(sphere_best_fitnesses_l[i][j])\n",
    "        \n",
    "# calculating mean and std values by iteration number\n",
    "for i in range(len(sphere_iter_results_g)):\n",
    "    sphere_iter_mean_g.append(np.mean(sphere_iter_results_g[i]))\n",
    "    sphere_iter_std_g.append(np.std(sphere_iter_results_g[i]))\n",
    "    \n",
    "    sphere_iter_mean_l.append(np.mean(sphere_iter_results_l[i]))\n",
    "    sphere_iter_std_l.append(np.std(sphere_iter_results_l[i]))"
   ]
  },
  {
   "cell_type": "markdown",
   "metadata": {},
   "source": [
    "### Results - Sphere"
   ]
  },
  {
   "cell_type": "code",
   "execution_count": null,
   "metadata": {},
   "outputs": [],
   "source": [
    "plt.figure(figsize=(16, 9))\n",
    "plt.ylim(-0.5, 5) \n",
    "plt.errorbar(x, np.array(sphere_iter_mean_g), np.array(sphere_iter_std_g), ms=7, lw=2.5, marker=\"o\", \\\n",
    "             capsize=3, ecolor=\"black\", elinewidth=0.7,label='Global')\n",
    "plt.errorbar(x, np.array(sphere_iter_mean_l), np.array(sphere_iter_std_l), ms=7, lw=2.5, ls='--', \\\n",
    "             marker=\"s\", capsize=3, color=\"r\",ecolor=\"r\", elinewidth=0.7,label='Local')\n",
    "plt.title('Sphere - Global x Local')\n",
    "plt.ylabel(\"Fitness\")\n",
    "plt.xlabel(\"Iteration\")\n",
    "plt.legend(loc='upper right',prop={'size': 16})\n",
    "\n",
    "plt.show() "
   ]
  },
  {
   "cell_type": "markdown",
   "metadata": {},
   "source": [
    "### Rastringin"
   ]
  },
  {
   "cell_type": "code",
   "execution_count": null,
   "metadata": {},
   "outputs": [],
   "source": [
    "bounds = [(-5.12, 5.12), (-5.12, 5.12), (-5.12, 5.12)]\n",
    "\n",
    "rastringin_best_fitnesses_g = []\n",
    "rastringin_best_fitnesses_l = []\n",
    "rastringin_iter_results_g = [[] for i in range(num_iter)]\n",
    "rastringin_iter_results_l = [[] for i in range(num_iter)]\n",
    "rastringin_iter_mean_g = []\n",
    "rastringin_iter_mean_l = []\n",
    "rastringin_iter_std_g = []\n",
    "rastringin_iter_std_l = []\n",
    "\n",
    "# executing global topology algorithm 30 times\n",
    "pso_g = PSO(rastringin, bounds, num_particles=50, maxiter=num_iter)\n",
    "\n",
    "for i in range(num_exec):\n",
    "    _, execution_best_fitnesses_g = pso_g.run()\n",
    "    rastringin_best_fitnesses_g.append(execution_best_fitnesses_g)\n",
    "    \n",
    "# executing local topology algorithm 30 times\n",
    "pso_l = PSO(rastringin, bounds, num_particles=50, maxiter=num_iter, num_neighbors=2)\n",
    "\n",
    "for i in range(num_exec):\n",
    "    _, execution_best_fitnesses_l = pso_l.run()\n",
    "    rastringin_best_fitnesses_l.append(execution_best_fitnesses_l)\n",
    "\n",
    "# grouping results by iteration number\n",
    "for i in range(len(rastringin_best_fitnesses_g)):\n",
    "    for j in range(len(rastringin_best_fitnesses_g[i])):\n",
    "        rastringin_iter_results_g[j].append(rastringin_best_fitnesses_g[i][j])\n",
    "        rastringin_iter_results_l[j].append(rastringin_best_fitnesses_l[i][j])\n",
    "        \n",
    "# calculating mean and std values by iteration number\n",
    "for i in range(len(rastringin_iter_results_g)):\n",
    "    rastringin_iter_mean_g.append(np.mean(rastringin_iter_results_g[i]))\n",
    "    rastringin_iter_std_g.append(np.std(rastringin_iter_results_g[i]))\n",
    "    \n",
    "    rastringin_iter_mean_l.append(np.mean(rastringin_iter_results_l[i]))\n",
    "    rastringin_iter_std_l.append(np.std(rastringin_iter_results_l[i]))"
   ]
  },
  {
   "cell_type": "markdown",
   "metadata": {},
   "source": [
    "### Results - Rastringin"
   ]
  },
  {
   "cell_type": "code",
   "execution_count": null,
   "metadata": {},
   "outputs": [],
   "source": [
    "plt.figure(figsize=(20, 15))\n",
    "plt.ylim(-1, 26)  \n",
    "plt.errorbar(x, np.array(rastringin_iter_mean_g), np.array(rastringin_iter_std_g), ms=7, lw=2.5, marker=\"o\", capsize=4, ecolor=\"black\", elinewidth=0.7,label='Global')\n",
    "plt.errorbar(x, np.array(rastringin_iter_mean_l), np.array(rastringin_iter_std_l), ms=7, lw=2.5,ls='--', marker=\"s\", capsize=4, color=\"r\",ecolor=\"r\", elinewidth=0.7,label='Local')\n",
    "plt.title('Rastringin - Global X Local')\n",
    "plt.ylabel(\"Fitness\")\n",
    "plt.xlabel(\"Iteration\")\n",
    "plt.legend(loc='upper right',prop={'size': 20})\n",
    "\n",
    "plt.show()"
   ]
  },
  {
   "cell_type": "markdown",
   "metadata": {},
   "source": [
    "### Ackley"
   ]
  },
  {
   "cell_type": "code",
   "execution_count": null,
   "metadata": {},
   "outputs": [],
   "source": [
    "bounds = [(-5, 5), (-5, 5), (-5, 5)]\n",
    "\n",
    "ackley_best_fitnesses_g = []\n",
    "ackley_best_fitnesses_l = []\n",
    "ackley_iter_results_g = [[] for i in range(num_iter)]\n",
    "ackley_iter_results_l = [[] for i in range(num_iter)]\n",
    "ackley_iter_mean_g = []\n",
    "ackley_iter_mean_l = []\n",
    "ackley_iter_std_g = []\n",
    "ackley_iter_std_l = []\n",
    "\n",
    "# executing global topology algorithm 30 times\n",
    "pso_g = PSO(ackley, bounds, num_particles=50, maxiter=num_iter)\n",
    "\n",
    "for i in range(num_exec):\n",
    "    _, execution_best_fitnesses_g = pso_g.run()\n",
    "    ackley_best_fitnesses_g.append(execution_best_fitnesses_g)\n",
    "    \n",
    "# executing local topology algorithm 30 times\n",
    "pso_l = PSO(ackley, bounds, num_particles=50, maxiter=num_iter, num_neighbors=2)\n",
    "\n",
    "for i in range(num_exec):\n",
    "    _, execution_best_fitnesses_l = pso_l.run()\n",
    "    ackley_best_fitnesses_l.append(execution_best_fitnesses_l)\n",
    "\n",
    "# grouping results by iteration number\n",
    "for i in range(len(ackley_best_fitnesses_g)):\n",
    "    for j in range(len(ackley_best_fitnesses_g[i])):\n",
    "        ackley_iter_results_g[j].append(ackley_best_fitnesses_g[i][j])\n",
    "        ackley_iter_results_l[j].append(ackley_best_fitnesses_l[i][j])\n",
    "        \n",
    "# calculating mean and std values by iteration number\n",
    "for i in range(len(ackley_iter_results_g)):\n",
    "    ackley_iter_mean_g.append(np.mean(ackley_iter_results_g[i]))\n",
    "    ackley_iter_std_g.append(np.std(ackley_iter_results_g[i]))\n",
    "    \n",
    "    ackley_iter_mean_l.append(np.mean(ackley_iter_results_l[i]))\n",
    "    ackley_iter_std_l.append(np.std(ackley_iter_results_l[i]))"
   ]
  },
  {
   "cell_type": "markdown",
   "metadata": {},
   "source": [
    "### Results - Ackley"
   ]
  },
  {
   "cell_type": "code",
   "execution_count": null,
   "metadata": {},
   "outputs": [],
   "source": [
    "plt.figure(figsize=(20, 15))\n",
    "plt.ylim(-0.5, 6)  \n",
    "plt.errorbar(x, np.array(ackley_iter_mean_g), np.array(ackley_iter_std_g), ms=7, lw=2.5, marker=\"o\", capsize=4, ecolor=\"black\", elinewidth=0.7,label='Global')\n",
    "plt.errorbar(x, np.array(ackley_iter_mean_l), np.array(ackley_iter_std_l), ms=7, lw=2.5,ls='--', marker=\"s\", capsize=4, color=\"r\",ecolor=\"r\", elinewidth=0.7,label='Local')\n",
    "plt.title('Ackley - Global X Local')\n",
    "plt.ylabel(\"Fitness\")\n",
    "plt.xlabel(\"Iteration\")\n",
    "plt.legend(loc='upper right',prop={'size': 20})\n",
    "\n",
    "plt.show()"
   ]
  },
  {
   "cell_type": "markdown",
   "metadata": {},
   "source": [
    "## Variar a fórmula de atualização da velocidade entre as opções: tradicional e com fator de restrição.\n",
    "* Mostrar resultado em um gráfico com número de iteração vs. melhor fitness encontrado\n",
    "* Terão duas séries neste gráfico\n",
    "* Cada ponto da série deverá apresentar a média dos 30 execuções e uma barra de erro (exemplo)."
   ]
  },
  {
   "cell_type": "code",
   "execution_count": null,
   "metadata": {},
   "outputs": [],
   "source": [
    "num_iter=100\n",
    "num_exec=30\n",
    "x = np.arange(1, num_iter+1, 1) # iteration number array"
   ]
  },
  {
   "cell_type": "markdown",
   "metadata": {},
   "source": [
    "### Sphere"
   ]
  },
  {
   "cell_type": "code",
   "execution_count": null,
   "metadata": {},
   "outputs": [],
   "source": [
    "bounds = [(-5, 5), (-5, 5), (-5, 5)]\n",
    "\n",
    "sphere_best_fitnesses_k = []\n",
    "sphere_best_fitnesses_w = []\n",
    "sphere_iter_results_k = [[] for i in range(num_iter)]\n",
    "sphere_iter_results_w = [[] for i in range(num_iter)]\n",
    "sphere_iter_mean_k = []\n",
    "sphere_iter_mean_w = []\n",
    "sphere_iter_std_k = []\n",
    "sphere_iter_std_w = []\n",
    "\n",
    "# executing constricted velocity algorithm 30 times\n",
    "pso_k = PSO(sphere, bounds, num_particles=50, maxiter=num_iter,constriction=1)\n",
    "\n",
    "for i in range(num_exec):\n",
    "    _, execution_best_fitnesses_k = pso_k.run()\n",
    "    sphere_best_fitnesses_k.append(execution_best_fitnesses_k)\n",
    "    \n",
    "# executing inertia topology algorithm 30 times\n",
    "pso_w = PSO(sphere, bounds, num_particles=50, maxiter=num_iter, constriction=0)\n",
    "\n",
    "for i in range(num_exec):\n",
    "    _, execution_best_fitnesses_w = pso_w.run()\n",
    "    sphere_best_fitnesses_w.append(execution_best_fitnesses_w)\n",
    "\n",
    "# grouping results by iteration number\n",
    "for i in range(len(sphere_best_fitnesses_k)):\n",
    "    for j in range(len(sphere_best_fitnesses_k[i])):\n",
    "        sphere_iter_results_k[j].append(sphere_best_fitnesses_k[i][j])\n",
    "        sphere_iter_results_w[j].append(sphere_best_fitnesses_w[i][j])\n",
    "        \n",
    "# calculating mean and std values by iteration number\n",
    "for i in range(len(sphere_iter_results_w)):\n",
    "    sphere_iter_mean_k.append(np.mean(sphere_iter_results_k[i]))\n",
    "    sphere_iter_std_k.append(np.std(sphere_iter_results_k[i]))\n",
    "    \n",
    "    sphere_iter_mean_w.append(np.mean(sphere_iter_results_w[i]))\n",
    "    sphere_iter_std_w.append(np.std(sphere_iter_results_w[i]))"
   ]
  },
  {
   "cell_type": "code",
   "execution_count": null,
   "metadata": {},
   "outputs": [],
   "source": [
    "plt.figure(figsize=(20, 15))\n",
    "plt.ylim(-0.5, 5)  \n",
    "plt.errorbar(x, np.array(sphere_iter_mean_k), np.array(sphere_iter_std_k), ms=7, lw=2.5, marker=\"o\", capsize=4, ecolor=\"black\", elinewidth=0.7,label='Constricted')\n",
    "plt.errorbar(x, np.array(sphere_iter_mean_w), np.array(sphere_iter_std_w), ms=7, lw=2.5,ls='--', marker=\"s\", capsize=4, color=\"r\",ecolor=\"r\", elinewidth=0.7,label='Inertia')\n",
    "plt.title('Sphere - Constricted X Inertia')\n",
    "plt.ylabel(\"Fitness\")\n",
    "plt.xlabel(\"Iteration\")\n",
    "plt.legend(loc='upper right',prop={'size': 20})\n",
    "\n",
    "plt.show() "
   ]
  },
  {
   "cell_type": "markdown",
   "metadata": {},
   "source": [
    "### Rastringin"
   ]
  },
  {
   "cell_type": "code",
   "execution_count": null,
   "metadata": {},
   "outputs": [],
   "source": [
    "bounds = [(-5.12, 5.12), (-5.12, 5.12), (-5.12, 5.12)]\n",
    "\n",
    "rastringin_best_fitnesses_k = []\n",
    "rastringin_best_fitnesses_w = []\n",
    "rastringin_iter_results_k = [[] for i in range(num_iter)]\n",
    "rastringin_iter_results_w = [[] for i in range(num_iter)]\n",
    "rastringin_iter_mean_k = []\n",
    "rastringin_iter_mean_w = []\n",
    "rastringin_iter_std_k = []\n",
    "rastringin_iter_std_w = []\n",
    "\n",
    "# executing constricted velocity algorithm 30 times\n",
    "pso_k = PSO(rastringin,bounds, num_particles=50, maxiter=num_iter,constriction=True)\n",
    "\n",
    "for i in range(num_exec):\n",
    "    _, execution_best_fitnesses_k = pso_k.run()\n",
    "    rastringin_best_fitnesses_k.append(execution_best_fitnesses_k)\n",
    "    \n",
    "# executing inertia algorithm 30 times\n",
    "pso_w = PSO(rastringin, bounds, num_particles=50, maxiter=num_iter, constriction=False)\n",
    "\n",
    "for i in range(num_exec):\n",
    "    _, execution_best_fitnesses_w = pso_w.run()\n",
    "    rastringin_best_fitnesses_w.append(execution_best_fitnesses_w)\n",
    "\n",
    "# grouping results by iteration number\n",
    "for i in range(len(rastringin_best_fitnesses_k)):\n",
    "    for j in range(len(rastringin_best_fitnesses_k[i])):\n",
    "        rastringin_iter_results_k[j].append(rastringin_best_fitnesses_k[i][j])\n",
    "        rastringin_iter_results_w[j].append(rastringin_best_fitnesses_w[i][j])\n",
    "        \n",
    "# calculating mean and std values by iteration number\n",
    "for i in range(len(rastringin_iter_results_w)):\n",
    "    rastringin_iter_mean_k.append(np.mean(rastringin_iter_results_k[i]))\n",
    "    rastringin_iter_std_k.append(np.std(rastringin_iter_results_k[i]))\n",
    "    \n",
    "    rastringin_iter_mean_w.append(np.mean(rastringin_iter_results_w[i]))\n",
    "    rastringin_iter_std_w.append(np.std(rastringin_iter_results_w[i]))"
   ]
  },
  {
   "cell_type": "code",
   "execution_count": null,
   "metadata": {},
   "outputs": [],
   "source": [
    "plt.figure(figsize=(20, 15))\n",
    "plt.ylim(-0.5, 25)  \n",
    "plt.errorbar(x, np.array(rastringin_iter_mean_k), np.array(rastringin_iter_std_k), ms=7, lw=2.5, marker=\"o\", capsize=4, ecolor=\"black\", elinewidth=0.7,label='Constricted')\n",
    "plt.errorbar(x, np.array(rastringin_iter_mean_w), np.array(rastringin_iter_std_w), ms=7, lw=2.5,ls='--', marker=\"s\", capsize=4, color=\"r\",ecolor=\"r\", elinewidth=0.7,label='Inertia')\n",
    "plt.title('Rastringin - Constricted X Inertia')\n",
    "plt.ylabel(\"Fitness\")\n",
    "plt.xlabel(\"Iteration\")\n",
    "plt.legend(loc='upper right',prop={'size': 20})\n",
    "\n",
    "plt.show() "
   ]
  },
  {
   "cell_type": "markdown",
   "metadata": {},
   "source": [
    "### Ackley"
   ]
  },
  {
   "cell_type": "code",
   "execution_count": null,
   "metadata": {},
   "outputs": [],
   "source": [
    "bounds = [(-5, 5), (-5, 5), (-5, 5)]\n",
    "\n",
    "ackley_best_fitnesses_k = []\n",
    "ackley_best_fitnesses_w = []\n",
    "ackley_iter_results_k = [[] for i in range(num_iter)]\n",
    "ackley_iter_results_w = [[] for i in range(num_iter)]\n",
    "ackley_iter_mean_k = []\n",
    "ackley_iter_mean_w = []\n",
    "ackley_iter_std_k = []\n",
    "ackley_iter_std_w = []\n",
    "\n",
    "# executing constricted velocity algorithm 30 times\n",
    "pso_k = PSO(ackley,bounds, num_particles=50, maxiter=num_iter,constriction=1)\n",
    "\n",
    "for i in range(num_exec):\n",
    "    _, execution_best_fitnesses_k = pso_k.run()\n",
    "    ackley_best_fitnesses_k.append(execution_best_fitnesses_k)\n",
    "    \n",
    "# executing local topology algorithm 30 times\n",
    "pso_w = PSO(ackley, bounds, num_particles=50, maxiter=num_iter, constriction=0)\n",
    "\n",
    "for i in range(num_exec):\n",
    "    _, execution_best_fitnesses_w = pso_w.run()\n",
    "    ackley_best_fitnesses_w.append(execution_best_fitnesses_w)\n",
    "\n",
    "# grouping results by iteration number\n",
    "for i in range(len(ackley_best_fitnesses_k)):\n",
    "    for j in range(len(ackley_best_fitnesses_k[i])):\n",
    "        ackley_iter_results_k[j].append(ackley_best_fitnesses_k[i][j])\n",
    "        ackley_iter_results_w[j].append(ackley_best_fitnesses_w[i][j])\n",
    "        \n",
    "# calculating mean and std values by iteration number\n",
    "for i in range(len(ackley_iter_results_w)):\n",
    "    ackley_iter_mean_k.append(np.mean(ackley_iter_results_k[i]))\n",
    "    ackley_iter_std_k.append(np.std(ackley_iter_results_k[i]))\n",
    "    \n",
    "    ackley_iter_mean_w.append(np.mean(ackley_iter_results_w[i]))\n",
    "    ackley_iter_std_w.append(np.std(ackley_iter_results_w[i]))"
   ]
  },
  {
   "cell_type": "code",
   "execution_count": null,
   "metadata": {},
   "outputs": [],
   "source": [
    "plt.figure(figsize=(20, 15))\n",
    "\n",
    "plt.ylim(-0.5, 7)  \n",
    "plt.errorbar(x, np.array(ackley_iter_mean_k), np.array(ackley_iter_std_k), ms=7, lw=2.5, marker=\"o\", capsize=4, ecolor=\"black\", elinewidth=0.7,label='Constricted')\n",
    "plt.errorbar(x, np.array(ackley_iter_mean_w), np.array(ackley_iter_std_w), ms=7, lw=2.5,ls='--', marker=\"s\", capsize=4, color=\"r\",ecolor=\"r\", elinewidth=0.7,label='Inertia')\n",
    "plt.title('Ackley - Constricted X Inertia')\n",
    "plt.ylabel(\"Fitness\")\n",
    "plt.xlabel(\"Iteration\")\n",
    "plt.legend(loc='upper right',prop={'size': 20})\n",
    "\n",
    "plt.show() "
   ]
  }
 ],
 "metadata": {
  "kernelspec": {
   "display_name": "Python 3",
   "language": "python",
   "name": "python3"
  },
  "language_info": {
   "codemirror_mode": {
    "name": "ipython",
    "version": 3
   },
   "file_extension": ".py",
   "mimetype": "text/x-python",
   "name": "python",
   "nbconvert_exporter": "python",
   "pygments_lexer": "ipython3",
   "version": "3.6.8"
  }
 },
 "nbformat": 4,
 "nbformat_minor": 2
}
