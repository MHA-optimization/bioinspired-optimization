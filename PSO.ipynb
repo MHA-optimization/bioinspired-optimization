{
 "cells": [
  {
   "cell_type": "markdown",
   "metadata": {},
   "source": [
    "# Particle Swarm Optimization\n",
    "\n",
    "..."
   ]
  },
  {
   "cell_type": "code",
   "execution_count": 1,
   "metadata": {},
   "outputs": [],
   "source": [
    "import numpy as np\n",
    "import matplotlib.pyplot as plt\n",
    "\n",
    "from pso import PSO\n",
    "from functions import sphere, rastringin, ackley"
   ]
  },
  {
   "cell_type": "markdown",
   "metadata": {},
   "source": [
    "..."
   ]
  },
  {
   "cell_type": "markdown",
   "metadata": {},
   "source": [
    "## Variar o tamanho do enxame no intervalo [30 - 100] em passos de 10.\n",
    "\n",
    "* Mostrar resultado em um gráfico com tamanho do enxame vs. melhor fitness encontrado;\n",
    "\n",
    "* Cada “ponto” do gráfico deve ser um box-plot dos 30 valores das execuções"
   ]
  },
  {
   "cell_type": "markdown",
   "metadata": {},
   "source": [
    "### Sphere"
   ]
  },
  {
   "cell_type": "code",
   "execution_count": 2,
   "metadata": {},
   "outputs": [],
   "source": [
    "bounds = [(-5, 5), (-5, 5), (-5, 5)]\n",
    "\n",
    "sphere_results = []\n",
    "sphere_particle_number = []\n",
    "\n",
    "# variando o número de partículas\n",
    "for n in range(10, 101, 10):\n",
    "    pso = PSO(sphere, bounds, num_particles=n, maxiter=30)\n",
    "    results = []\n",
    "    # executando o algoritmo 30 vezes\n",
    "    for i in range(30):\n",
    "        results.append(pso.run())\n",
    "        \n",
    "    sphere_particle_number.append(n)\n",
    "    sphere_results.append(results)"
   ]
  },
  {
   "cell_type": "markdown",
   "metadata": {},
   "source": [
    "### Rastringin"
   ]
  },
  {
   "cell_type": "code",
   "execution_count": 3,
   "metadata": {},
   "outputs": [],
   "source": [
    "bounds = [(-5.12, 5.12), (-5.12, 5.12), (-5.12, 5.12)]\n",
    "\n",
    "rastringin_results = []\n",
    "rastringin_particle_number = []\n",
    "\n",
    "# variando o número de partículas\n",
    "for n in range(30, 101, 10):\n",
    "    pso = PSO(rastringin, bounds, num_particles=n, maxiter=30)\n",
    "    results = []\n",
    "    # executando o algoritmo 30 vezes\n",
    "    for i in range(30):\n",
    "        results.append(pso.run())\n",
    "    \n",
    "    rastringin_particle_number.append(n)\n",
    "    rastringin_results.append(results)"
   ]
  },
  {
   "cell_type": "markdown",
   "metadata": {},
   "source": [
    "### Ackley"
   ]
  },
  {
   "cell_type": "code",
   "execution_count": 4,
   "metadata": {},
   "outputs": [],
   "source": [
    "bounds = [(-5, 5), (-5, 5), (-5, 5)]\n",
    "\n",
    "ackley_results = []\n",
    "ackley_particle_number = []\n",
    "\n",
    "# variando o número de partículas\n",
    "for n in range(30, 101, 10):\n",
    "    pso = PSO(ackley, bounds, num_particles=n, maxiter=30)\n",
    "    results = []\n",
    "    # executando o algoritmo 30 vezes\n",
    "    for i in range(30):\n",
    "        results.append(pso.run())\n",
    "    \n",
    "    ackley_particle_number.append(n)\n",
    "    ackley_results.append(results)"
   ]
  },
  {
   "cell_type": "markdown",
   "metadata": {},
   "source": [
    "### Resultados"
   ]
  },
  {
   "cell_type": "code",
   "execution_count": 5,
   "metadata": {},
   "outputs": [
    {
     "data": {
      "image/png": "[encoded data removed]",
      "text/plain": [
       "<Figure size 1440x360 with 3 Axes>"
      ]
     },
     "metadata": {
      "needs_background": "light"
     },
     "output_type": "display_data"
    }
   ],
   "source": [
    "plt.figure(figsize=(20, 5))\n",
    "\n",
    "plt.subplot(1, 3, 1)\n",
    "plt.boxplot(sphere_results)\n",
    "plt.xticks(range(1, len(sphere_results) + 1), sphere_particle_number)\n",
    "plt.title('Sphere')\n",
    "plt.ylabel(\"Fitness\")\n",
    "plt.xlabel(\"Número de partículas\")\n",
    "\n",
    "plt.subplot(1, 3, 2)\n",
    "plt.boxplot(rastringin_results)\n",
    "plt.xticks(range(1, len(rastringin_results) + 1), rastringin_particle_number)\n",
    "plt.title('Rastringin')\n",
    "plt.ylabel(\"Fitness\")\n",
    "plt.xlabel(\"Número de partículas\")\n",
    "\n",
    "# Trocar por Ackley\n",
    "plt.subplot(1, 3, 3)\n",
    "plt.boxplot(ackley_results)\n",
    "plt.xticks(range(1, len(ackley_results) + 1), ackley_particle_number)\n",
    "plt.title('Ackley')\n",
    "plt.ylabel(\"Fitness\")\n",
    "plt.xlabel(\"Número de partículas\")\n",
    "\n",
    "plt.show()"
   ]
  },
  {
   "cell_type": "markdown",
   "metadata": {},
   "source": [
    "## Variar o valor de inércia no intervalo [0,1 - 0,9] em passos de 0,1.\n",
    "\n",
    "* Mostrar resultado em um gráfico com valor de inércia e vs. melhor fitness encontrado;\n",
    "* Cada “ponto” do gráfico deve ser um box-plot dos 30 valores das execuções"
   ]
  },
  {
   "cell_type": "markdown",
   "metadata": {},
   "source": [
    "## Variar topologia entre as opções: global e local com 2 vizinhos.\n",
    "\n",
    "* Mostrar resultado em um gráfico com número de iteração vs. melhor fitness\n",
    "encontrado\n",
    "* Terão duas séries neste gráfico, uma para cada tipo de topologia\n",
    "* Cada ponto da série deverá apresentar a média dos 30 execuções e uma barra de erro (exemplo)."
   ]
  },
  {
   "cell_type": "markdown",
   "metadata": {},
   "source": [
    "## Variar a fórmula de atualização da velocidade entre as opções: tradicional e com fator de restrição.\n",
    "* Mostrar resultado em um gráfico com número de iteração vs. melhor fitness encontrado\n",
    "* Terão duas séries neste gráfico\n",
    "* Cada ponto da série deverá apresentar a média dos 30 execuções e uma barra de erro (exemplo)."
   ]
  }
 ],
 "metadata": {
  "kernelspec": {
   "display_name": "Python 3",
   "language": "python",
   "name": "python3"
  },
  "language_info": {
   "codemirror_mode": {
    "name": "ipython",
    "version": 3
   },
   "file_extension": ".py",
   "mimetype": "text/x-python",
   "name": "python",
   "nbconvert_exporter": "python",
   "pygments_lexer": "ipython3",
   "version": "3.6.7"
  }
 },
 "nbformat": 4,
 "nbformat_minor": 2
}
